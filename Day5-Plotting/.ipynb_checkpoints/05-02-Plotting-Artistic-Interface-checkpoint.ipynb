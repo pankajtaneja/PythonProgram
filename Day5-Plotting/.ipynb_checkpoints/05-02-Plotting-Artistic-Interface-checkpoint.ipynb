{
 "cells": [
  {
   "cell_type": "markdown",
   "metadata": {
    "colab_type": "text",
    "id": "GkEABRRsZc2x"
   },
   "source": [
    "## matplotlib:  Artistic Interface"
   ]
  },
  {
   "cell_type": "markdown",
   "metadata": {
    "colab_type": "text",
    "id": "teBiimofZc20"
   },
   "source": [
    "## Three Layers of Interface\n",
    "`matplotlib.backend_bases.FigureCanvas` is the area onto which the figure is drawn\n",
    "\n",
    "`matplotlib.backend_bases.Renderer` is the object which knows how to draw on the FigureCanvas\n",
    "\n",
    "`matplotlib.artist.Artist` is the object that knows how to use a renderer to paint onto the canvas\n",
    "### `Artist` types\n",
    "`primitives` represent the standard graphical objects we want to paint onto our canvas\n",
    "\n",
    "`containers` are places to put them (`Figures, Axes, Axis`)\n"
   ]
  },
  {
   "cell_type": "markdown",
   "metadata": {
    "colab_type": "text",
    "id": "2dCr3LEvZc21"
   },
   "source": [
    "## Typical Usage\n",
    "1. Create a Figure instance\n",
    "2. Create 1 or more subplots on Figure\n",
    "3. Use the Axes instance helper methods to create the primitives (Plots)\n",
    "\n",
    "### You can drop down and use the `Artist` primitives and containers or the `Renderer` or the `FigureCanvas`"
   ]
  },
  {
   "cell_type": "markdown",
   "metadata": {
    "colab_type": "text",
    "id": "altsM4V-Zc23"
   },
   "source": [
    "## Simple Plot "
   ]
  },
  {
   "cell_type": "code",
   "execution_count": 1,
   "metadata": {
    "colab": {},
    "colab_type": "code",
    "id": "jknpOj4xZc24"
   },
   "outputs": [],
   "source": [
    "%matplotlib notebook"
   ]
  },
  {
   "cell_type": "markdown",
   "metadata": {
    "colab_type": "text",
    "id": "UuxgxtWbZc29"
   },
   "source": [
    "* Creates the image inside the notebook if possible\n",
    "* This setup allows for continuous update of the canvas\n",
    "* Note: Artistic interface will work with `%maplotlib` and `%matplotlib inline` and `%pylab`"
   ]
  },
  {
   "cell_type": "code",
   "execution_count": 2,
   "metadata": {
    "colab": {},
    "colab_type": "code",
    "id": "C5AsM9PuZc2-"
   },
   "outputs": [],
   "source": [
    "import numpy as np\n",
    "import matplotlib.pyplot as plt"
   ]
  },
  {
   "cell_type": "markdown",
   "metadata": {
    "colab_type": "text",
    "id": "DYfAuLmwZc3C"
   },
   "source": [
    "* You still need to bring in the \n",
    "* It is matplotlib.pylot as plt"
   ]
  },
  {
   "cell_type": "markdown",
   "metadata": {
    "colab_type": "text",
    "id": "pjibA4wyZc3D"
   },
   "source": [
    "### Creating the X and Y points"
   ]
  },
  {
   "cell_type": "code",
   "execution_count": 3,
   "metadata": {
    "colab": {},
    "colab_type": "code",
    "id": "24IXPHXaZc3E"
   },
   "outputs": [],
   "source": [
    "X = np.linspace(-np.pi, np.pi, 256,endpoint=True)\n",
    "S = np.sin(X)\n",
    "C = np.cos(X)"
   ]
  },
  {
   "cell_type": "markdown",
   "metadata": {
    "colab_type": "text",
    "id": "qw_Bc9XUZc3H"
   },
   "source": [
    "### Set Up Canvas"
   ]
  },
  {
   "cell_type": "code",
   "execution_count": 4,
   "metadata": {
    "colab": {},
    "colab_type": "code",
    "id": "auCd_mV7Zc3J"
   },
   "outputs": [
    {
     "data": {
      "application/javascript": [
       "/* Put everything inside the global mpl namespace */\n",
       "window.mpl = {};\n",
       "\n",
       "\n",
       "mpl.get_websocket_type = function() {\n",
       "    if (typeof(WebSocket) !== 'undefined') {\n",
       "        return WebSocket;\n",
       "    } else if (typeof(MozWebSocket) !== 'undefined') {\n",
       "        return MozWebSocket;\n",
       "    } else {\n",
       "        alert('Your browser does not have WebSocket support.' +\n",
       "              'Please try Chrome, Safari or Firefox ≥ 6. ' +\n",
       "              'Firefox 4 and 5 are also supported but you ' +\n",
       "              'have to enable WebSockets in about:config.');\n",
       "    };\n",
       "}\n",
       "\n",
       "mpl.figure = function(figure_id, websocket, ondownload, parent_element) {\n",
       "    this.id = figure_id;\n",
       "\n",
       "    this.ws = websocket;\n",
       "\n",
       "    this.supports_binary = (this.ws.binaryType != undefined);\n",
       "\n",
       "    if (!this.supports_binary) {\n",
       "        var warnings = document.getElementById(\"mpl-warnings\");\n",
       "        if (warnings) {\n",
       "            warnings.style.display = 'block';\n",
       "            warnings.textContent = (\n",
       "                \"This browser does not support binary websocket messages. \" +\n",
       "                    \"Performance may be slow.\");\n",
       "        }\n",
       "    }\n",
       "\n",
       "    this.imageObj = new Image();\n",
       "\n",
       "    this.context = undefined;\n",
       "    this.message = undefined;\n",
       "    this.canvas = undefined;\n",
       "    this.rubberband_canvas = undefined;\n",
       "    this.rubberband_context = undefined;\n",
       "    this.format_dropdown = undefined;\n",
       "\n",
       "    this.image_mode = 'full';\n",
       "\n",
       "    this.root = $('<div/>');\n",
       "    this._root_extra_style(this.root)\n",
       "    this.root.attr('style', 'display: inline-block');\n",
       "\n",
       "    $(parent_element).append(this.root);\n",
       "\n",
       "    this._init_header(this);\n",
       "    this._init_canvas(this);\n",
       "    this._init_toolbar(this);\n",
       "\n",
       "    var fig = this;\n",
       "\n",
       "    this.waiting = false;\n",
       "\n",
       "    this.ws.onopen =  function () {\n",
       "            fig.send_message(\"supports_binary\", {value: fig.supports_binary});\n",
       "            fig.send_message(\"send_image_mode\", {});\n",
       "            if (mpl.ratio != 1) {\n",
       "                fig.send_message(\"set_dpi_ratio\", {'dpi_ratio': mpl.ratio});\n",
       "            }\n",
       "            fig.send_message(\"refresh\", {});\n",
       "        }\n",
       "\n",
       "    this.imageObj.onload = function() {\n",
       "            if (fig.image_mode == 'full') {\n",
       "                // Full images could contain transparency (where diff images\n",
       "                // almost always do), so we need to clear the canvas so that\n",
       "                // there is no ghosting.\n",
       "                fig.context.clearRect(0, 0, fig.canvas.width, fig.canvas.height);\n",
       "            }\n",
       "            fig.context.drawImage(fig.imageObj, 0, 0);\n",
       "        };\n",
       "\n",
       "    this.imageObj.onunload = function() {\n",
       "        fig.ws.close();\n",
       "    }\n",
       "\n",
       "    this.ws.onmessage = this._make_on_message_function(this);\n",
       "\n",
       "    this.ondownload = ondownload;\n",
       "}\n",
       "\n",
       "mpl.figure.prototype._init_header = function() {\n",
       "    var titlebar = $(\n",
       "        '<div class=\"ui-dialog-titlebar ui-widget-header ui-corner-all ' +\n",
       "        'ui-helper-clearfix\"/>');\n",
       "    var titletext = $(\n",
       "        '<div class=\"ui-dialog-title\" style=\"width: 100%; ' +\n",
       "        'text-align: center; padding: 3px;\"/>');\n",
       "    titlebar.append(titletext)\n",
       "    this.root.append(titlebar);\n",
       "    this.header = titletext[0];\n",
       "}\n",
       "\n",
       "\n",
       "\n",
       "mpl.figure.prototype._canvas_extra_style = function(canvas_div) {\n",
       "\n",
       "}\n",
       "\n",
       "\n",
       "mpl.figure.prototype._root_extra_style = function(canvas_div) {\n",
       "\n",
       "}\n",
       "\n",
       "mpl.figure.prototype._init_canvas = function() {\n",
       "    var fig = this;\n",
       "\n",
       "    var canvas_div = $('<div/>');\n",
       "\n",
       "    canvas_div.attr('style', 'position: relative; clear: both; outline: 0');\n",
       "\n",
       "    function canvas_keyboard_event(event) {\n",
       "        return fig.key_event(event, event['data']);\n",
       "    }\n",
       "\n",
       "    canvas_div.keydown('key_press', canvas_keyboard_event);\n",
       "    canvas_div.keyup('key_release', canvas_keyboard_event);\n",
       "    this.canvas_div = canvas_div\n",
       "    this._canvas_extra_style(canvas_div)\n",
       "    this.root.append(canvas_div);\n",
       "\n",
       "    var canvas = $('<canvas/>');\n",
       "    canvas.addClass('mpl-canvas');\n",
       "    canvas.attr('style', \"left: 0; top: 0; z-index: 0; outline: 0\")\n",
       "\n",
       "    this.canvas = canvas[0];\n",
       "    this.context = canvas[0].getContext(\"2d\");\n",
       "\n",
       "    var backingStore = this.context.backingStorePixelRatio ||\n",
       "\tthis.context.webkitBackingStorePixelRatio ||\n",
       "\tthis.context.mozBackingStorePixelRatio ||\n",
       "\tthis.context.msBackingStorePixelRatio ||\n",
       "\tthis.context.oBackingStorePixelRatio ||\n",
       "\tthis.context.backingStorePixelRatio || 1;\n",
       "\n",
       "    mpl.ratio = (window.devicePixelRatio || 1) / backingStore;\n",
       "\n",
       "    var rubberband = $('<canvas/>');\n",
       "    rubberband.attr('style', \"position: absolute; left: 0; top: 0; z-index: 1;\")\n",
       "\n",
       "    var pass_mouse_events = true;\n",
       "\n",
       "    canvas_div.resizable({\n",
       "        start: function(event, ui) {\n",
       "            pass_mouse_events = false;\n",
       "        },\n",
       "        resize: function(event, ui) {\n",
       "            fig.request_resize(ui.size.width, ui.size.height);\n",
       "        },\n",
       "        stop: function(event, ui) {\n",
       "            pass_mouse_events = true;\n",
       "            fig.request_resize(ui.size.width, ui.size.height);\n",
       "        },\n",
       "    });\n",
       "\n",
       "    function mouse_event_fn(event) {\n",
       "        if (pass_mouse_events)\n",
       "            return fig.mouse_event(event, event['data']);\n",
       "    }\n",
       "\n",
       "    rubberband.mousedown('button_press', mouse_event_fn);\n",
       "    rubberband.mouseup('button_release', mouse_event_fn);\n",
       "    // Throttle sequential mouse events to 1 every 20ms.\n",
       "    rubberband.mousemove('motion_notify', mouse_event_fn);\n",
       "\n",
       "    rubberband.mouseenter('figure_enter', mouse_event_fn);\n",
       "    rubberband.mouseleave('figure_leave', mouse_event_fn);\n",
       "\n",
       "    canvas_div.on(\"wheel\", function (event) {\n",
       "        event = event.originalEvent;\n",
       "        event['data'] = 'scroll'\n",
       "        if (event.deltaY < 0) {\n",
       "            event.step = 1;\n",
       "        } else {\n",
       "            event.step = -1;\n",
       "        }\n",
       "        mouse_event_fn(event);\n",
       "    });\n",
       "\n",
       "    canvas_div.append(canvas);\n",
       "    canvas_div.append(rubberband);\n",
       "\n",
       "    this.rubberband = rubberband;\n",
       "    this.rubberband_canvas = rubberband[0];\n",
       "    this.rubberband_context = rubberband[0].getContext(\"2d\");\n",
       "    this.rubberband_context.strokeStyle = \"#000000\";\n",
       "\n",
       "    this._resize_canvas = function(width, height) {\n",
       "        // Keep the size of the canvas, canvas container, and rubber band\n",
       "        // canvas in synch.\n",
       "        canvas_div.css('width', width)\n",
       "        canvas_div.css('height', height)\n",
       "\n",
       "        canvas.attr('width', width * mpl.ratio);\n",
       "        canvas.attr('height', height * mpl.ratio);\n",
       "        canvas.attr('style', 'width: ' + width + 'px; height: ' + height + 'px;');\n",
       "\n",
       "        rubberband.attr('width', width);\n",
       "        rubberband.attr('height', height);\n",
       "    }\n",
       "\n",
       "    // Set the figure to an initial 600x600px, this will subsequently be updated\n",
       "    // upon first draw.\n",
       "    this._resize_canvas(600, 600);\n",
       "\n",
       "    // Disable right mouse context menu.\n",
       "    $(this.rubberband_canvas).bind(\"contextmenu\",function(e){\n",
       "        return false;\n",
       "    });\n",
       "\n",
       "    function set_focus () {\n",
       "        canvas.focus();\n",
       "        canvas_div.focus();\n",
       "    }\n",
       "\n",
       "    window.setTimeout(set_focus, 100);\n",
       "}\n",
       "\n",
       "mpl.figure.prototype._init_toolbar = function() {\n",
       "    var fig = this;\n",
       "\n",
       "    var nav_element = $('<div/>')\n",
       "    nav_element.attr('style', 'width: 100%');\n",
       "    this.root.append(nav_element);\n",
       "\n",
       "    // Define a callback function for later on.\n",
       "    function toolbar_event(event) {\n",
       "        return fig.toolbar_button_onclick(event['data']);\n",
       "    }\n",
       "    function toolbar_mouse_event(event) {\n",
       "        return fig.toolbar_button_onmouseover(event['data']);\n",
       "    }\n",
       "\n",
       "    for(var toolbar_ind in mpl.toolbar_items) {\n",
       "        var name = mpl.toolbar_items[toolbar_ind][0];\n",
       "        var tooltip = mpl.toolbar_items[toolbar_ind][1];\n",
       "        var image = mpl.toolbar_items[toolbar_ind][2];\n",
       "        var method_name = mpl.toolbar_items[toolbar_ind][3];\n",
       "\n",
       "        if (!name) {\n",
       "            // put a spacer in here.\n",
       "            continue;\n",
       "        }\n",
       "        var button = $('<button/>');\n",
       "        button.addClass('ui-button ui-widget ui-state-default ui-corner-all ' +\n",
       "                        'ui-button-icon-only');\n",
       "        button.attr('role', 'button');\n",
       "        button.attr('aria-disabled', 'false');\n",
       "        button.click(method_name, toolbar_event);\n",
       "        button.mouseover(tooltip, toolbar_mouse_event);\n",
       "\n",
       "        var icon_img = $('<span/>');\n",
       "        icon_img.addClass('ui-button-icon-primary ui-icon');\n",
       "        icon_img.addClass(image);\n",
       "        icon_img.addClass('ui-corner-all');\n",
       "\n",
       "        var tooltip_span = $('<span/>');\n",
       "        tooltip_span.addClass('ui-button-text');\n",
       "        tooltip_span.html(tooltip);\n",
       "\n",
       "        button.append(icon_img);\n",
       "        button.append(tooltip_span);\n",
       "\n",
       "        nav_element.append(button);\n",
       "    }\n",
       "\n",
       "    var fmt_picker_span = $('<span/>');\n",
       "\n",
       "    var fmt_picker = $('<select/>');\n",
       "    fmt_picker.addClass('mpl-toolbar-option ui-widget ui-widget-content');\n",
       "    fmt_picker_span.append(fmt_picker);\n",
       "    nav_element.append(fmt_picker_span);\n",
       "    this.format_dropdown = fmt_picker[0];\n",
       "\n",
       "    for (var ind in mpl.extensions) {\n",
       "        var fmt = mpl.extensions[ind];\n",
       "        var option = $(\n",
       "            '<option/>', {selected: fmt === mpl.default_extension}).html(fmt);\n",
       "        fmt_picker.append(option)\n",
       "    }\n",
       "\n",
       "    // Add hover states to the ui-buttons\n",
       "    $( \".ui-button\" ).hover(\n",
       "        function() { $(this).addClass(\"ui-state-hover\");},\n",
       "        function() { $(this).removeClass(\"ui-state-hover\");}\n",
       "    );\n",
       "\n",
       "    var status_bar = $('<span class=\"mpl-message\"/>');\n",
       "    nav_element.append(status_bar);\n",
       "    this.message = status_bar[0];\n",
       "}\n",
       "\n",
       "mpl.figure.prototype.request_resize = function(x_pixels, y_pixels) {\n",
       "    // Request matplotlib to resize the figure. Matplotlib will then trigger a resize in the client,\n",
       "    // which will in turn request a refresh of the image.\n",
       "    this.send_message('resize', {'width': x_pixels, 'height': y_pixels});\n",
       "}\n",
       "\n",
       "mpl.figure.prototype.send_message = function(type, properties) {\n",
       "    properties['type'] = type;\n",
       "    properties['figure_id'] = this.id;\n",
       "    this.ws.send(JSON.stringify(properties));\n",
       "}\n",
       "\n",
       "mpl.figure.prototype.send_draw_message = function() {\n",
       "    if (!this.waiting) {\n",
       "        this.waiting = true;\n",
       "        this.ws.send(JSON.stringify({type: \"draw\", figure_id: this.id}));\n",
       "    }\n",
       "}\n",
       "\n",
       "\n",
       "mpl.figure.prototype.handle_save = function(fig, msg) {\n",
       "    var format_dropdown = fig.format_dropdown;\n",
       "    var format = format_dropdown.options[format_dropdown.selectedIndex].value;\n",
       "    fig.ondownload(fig, format);\n",
       "}\n",
       "\n",
       "\n",
       "mpl.figure.prototype.handle_resize = function(fig, msg) {\n",
       "    var size = msg['size'];\n",
       "    if (size[0] != fig.canvas.width || size[1] != fig.canvas.height) {\n",
       "        fig._resize_canvas(size[0], size[1]);\n",
       "        fig.send_message(\"refresh\", {});\n",
       "    };\n",
       "}\n",
       "\n",
       "mpl.figure.prototype.handle_rubberband = function(fig, msg) {\n",
       "    var x0 = msg['x0'] / mpl.ratio;\n",
       "    var y0 = (fig.canvas.height - msg['y0']) / mpl.ratio;\n",
       "    var x1 = msg['x1'] / mpl.ratio;\n",
       "    var y1 = (fig.canvas.height - msg['y1']) / mpl.ratio;\n",
       "    x0 = Math.floor(x0) + 0.5;\n",
       "    y0 = Math.floor(y0) + 0.5;\n",
       "    x1 = Math.floor(x1) + 0.5;\n",
       "    y1 = Math.floor(y1) + 0.5;\n",
       "    var min_x = Math.min(x0, x1);\n",
       "    var min_y = Math.min(y0, y1);\n",
       "    var width = Math.abs(x1 - x0);\n",
       "    var height = Math.abs(y1 - y0);\n",
       "\n",
       "    fig.rubberband_context.clearRect(\n",
       "        0, 0, fig.canvas.width, fig.canvas.height);\n",
       "\n",
       "    fig.rubberband_context.strokeRect(min_x, min_y, width, height);\n",
       "}\n",
       "\n",
       "mpl.figure.prototype.handle_figure_label = function(fig, msg) {\n",
       "    // Updates the figure title.\n",
       "    fig.header.textContent = msg['label'];\n",
       "}\n",
       "\n",
       "mpl.figure.prototype.handle_cursor = function(fig, msg) {\n",
       "    var cursor = msg['cursor'];\n",
       "    switch(cursor)\n",
       "    {\n",
       "    case 0:\n",
       "        cursor = 'pointer';\n",
       "        break;\n",
       "    case 1:\n",
       "        cursor = 'default';\n",
       "        break;\n",
       "    case 2:\n",
       "        cursor = 'crosshair';\n",
       "        break;\n",
       "    case 3:\n",
       "        cursor = 'move';\n",
       "        break;\n",
       "    }\n",
       "    fig.rubberband_canvas.style.cursor = cursor;\n",
       "}\n",
       "\n",
       "mpl.figure.prototype.handle_message = function(fig, msg) {\n",
       "    fig.message.textContent = msg['message'];\n",
       "}\n",
       "\n",
       "mpl.figure.prototype.handle_draw = function(fig, msg) {\n",
       "    // Request the server to send over a new figure.\n",
       "    fig.send_draw_message();\n",
       "}\n",
       "\n",
       "mpl.figure.prototype.handle_image_mode = function(fig, msg) {\n",
       "    fig.image_mode = msg['mode'];\n",
       "}\n",
       "\n",
       "mpl.figure.prototype.updated_canvas_event = function() {\n",
       "    // Called whenever the canvas gets updated.\n",
       "    this.send_message(\"ack\", {});\n",
       "}\n",
       "\n",
       "// A function to construct a web socket function for onmessage handling.\n",
       "// Called in the figure constructor.\n",
       "mpl.figure.prototype._make_on_message_function = function(fig) {\n",
       "    return function socket_on_message(evt) {\n",
       "        if (evt.data instanceof Blob) {\n",
       "            /* FIXME: We get \"Resource interpreted as Image but\n",
       "             * transferred with MIME type text/plain:\" errors on\n",
       "             * Chrome.  But how to set the MIME type?  It doesn't seem\n",
       "             * to be part of the websocket stream */\n",
       "            evt.data.type = \"image/png\";\n",
       "\n",
       "            /* Free the memory for the previous frames */\n",
       "            if (fig.imageObj.src) {\n",
       "                (window.URL || window.webkitURL).revokeObjectURL(\n",
       "                    fig.imageObj.src);\n",
       "            }\n",
       "\n",
       "            fig.imageObj.src = (window.URL || window.webkitURL).createObjectURL(\n",
       "                evt.data);\n",
       "            fig.updated_canvas_event();\n",
       "            fig.waiting = false;\n",
       "            return;\n",
       "        }\n",
       "        else if (typeof evt.data === 'string' && evt.data.slice(0, 21) == \"data:image/png;base64\") {\n",
       "            fig.imageObj.src = evt.data;\n",
       "            fig.updated_canvas_event();\n",
       "            fig.waiting = false;\n",
       "            return;\n",
       "        }\n",
       "\n",
       "        var msg = JSON.parse(evt.data);\n",
       "        var msg_type = msg['type'];\n",
       "\n",
       "        // Call the  \"handle_{type}\" callback, which takes\n",
       "        // the figure and JSON message as its only arguments.\n",
       "        try {\n",
       "            var callback = fig[\"handle_\" + msg_type];\n",
       "        } catch (e) {\n",
       "            console.log(\"No handler for the '\" + msg_type + \"' message type: \", msg);\n",
       "            return;\n",
       "        }\n",
       "\n",
       "        if (callback) {\n",
       "            try {\n",
       "                // console.log(\"Handling '\" + msg_type + \"' message: \", msg);\n",
       "                callback(fig, msg);\n",
       "            } catch (e) {\n",
       "                console.log(\"Exception inside the 'handler_\" + msg_type + \"' callback:\", e, e.stack, msg);\n",
       "            }\n",
       "        }\n",
       "    };\n",
       "}\n",
       "\n",
       "// from http://stackoverflow.com/questions/1114465/getting-mouse-location-in-canvas\n",
       "mpl.findpos = function(e) {\n",
       "    //this section is from http://www.quirksmode.org/js/events_properties.html\n",
       "    var targ;\n",
       "    if (!e)\n",
       "        e = window.event;\n",
       "    if (e.target)\n",
       "        targ = e.target;\n",
       "    else if (e.srcElement)\n",
       "        targ = e.srcElement;\n",
       "    if (targ.nodeType == 3) // defeat Safari bug\n",
       "        targ = targ.parentNode;\n",
       "\n",
       "    // jQuery normalizes the pageX and pageY\n",
       "    // pageX,Y are the mouse positions relative to the document\n",
       "    // offset() returns the position of the element relative to the document\n",
       "    var x = e.pageX - $(targ).offset().left;\n",
       "    var y = e.pageY - $(targ).offset().top;\n",
       "\n",
       "    return {\"x\": x, \"y\": y};\n",
       "};\n",
       "\n",
       "/*\n",
       " * return a copy of an object with only non-object keys\n",
       " * we need this to avoid circular references\n",
       " * http://stackoverflow.com/a/24161582/3208463\n",
       " */\n",
       "function simpleKeys (original) {\n",
       "  return Object.keys(original).reduce(function (obj, key) {\n",
       "    if (typeof original[key] !== 'object')\n",
       "        obj[key] = original[key]\n",
       "    return obj;\n",
       "  }, {});\n",
       "}\n",
       "\n",
       "mpl.figure.prototype.mouse_event = function(event, name) {\n",
       "    var canvas_pos = mpl.findpos(event)\n",
       "\n",
       "    if (name === 'button_press')\n",
       "    {\n",
       "        this.canvas.focus();\n",
       "        this.canvas_div.focus();\n",
       "    }\n",
       "\n",
       "    var x = canvas_pos.x * mpl.ratio;\n",
       "    var y = canvas_pos.y * mpl.ratio;\n",
       "\n",
       "    this.send_message(name, {x: x, y: y, button: event.button,\n",
       "                             step: event.step,\n",
       "                             guiEvent: simpleKeys(event)});\n",
       "\n",
       "    /* This prevents the web browser from automatically changing to\n",
       "     * the text insertion cursor when the button is pressed.  We want\n",
       "     * to control all of the cursor setting manually through the\n",
       "     * 'cursor' event from matplotlib */\n",
       "    event.preventDefault();\n",
       "    return false;\n",
       "}\n",
       "\n",
       "mpl.figure.prototype._key_event_extra = function(event, name) {\n",
       "    // Handle any extra behaviour associated with a key event\n",
       "}\n",
       "\n",
       "mpl.figure.prototype.key_event = function(event, name) {\n",
       "\n",
       "    // Prevent repeat events\n",
       "    if (name == 'key_press')\n",
       "    {\n",
       "        if (event.which === this._key)\n",
       "            return;\n",
       "        else\n",
       "            this._key = event.which;\n",
       "    }\n",
       "    if (name == 'key_release')\n",
       "        this._key = null;\n",
       "\n",
       "    var value = '';\n",
       "    if (event.ctrlKey && event.which != 17)\n",
       "        value += \"ctrl+\";\n",
       "    if (event.altKey && event.which != 18)\n",
       "        value += \"alt+\";\n",
       "    if (event.shiftKey && event.which != 16)\n",
       "        value += \"shift+\";\n",
       "\n",
       "    value += 'k';\n",
       "    value += event.which.toString();\n",
       "\n",
       "    this._key_event_extra(event, name);\n",
       "\n",
       "    this.send_message(name, {key: value,\n",
       "                             guiEvent: simpleKeys(event)});\n",
       "    return false;\n",
       "}\n",
       "\n",
       "mpl.figure.prototype.toolbar_button_onclick = function(name) {\n",
       "    if (name == 'download') {\n",
       "        this.handle_save(this, null);\n",
       "    } else {\n",
       "        this.send_message(\"toolbar_button\", {name: name});\n",
       "    }\n",
       "};\n",
       "\n",
       "mpl.figure.prototype.toolbar_button_onmouseover = function(tooltip) {\n",
       "    this.message.textContent = tooltip;\n",
       "};\n",
       "mpl.toolbar_items = [[\"Home\", \"Reset original view\", \"fa fa-home icon-home\", \"home\"], [\"Back\", \"Back to previous view\", \"fa fa-arrow-left icon-arrow-left\", \"back\"], [\"Forward\", \"Forward to next view\", \"fa fa-arrow-right icon-arrow-right\", \"forward\"], [\"\", \"\", \"\", \"\"], [\"Pan\", \"Pan axes with left mouse, zoom with right\", \"fa fa-arrows icon-move\", \"pan\"], [\"Zoom\", \"Zoom to rectangle\", \"fa fa-square-o icon-check-empty\", \"zoom\"], [\"\", \"\", \"\", \"\"], [\"Download\", \"Download plot\", \"fa fa-floppy-o icon-save\", \"download\"]];\n",
       "\n",
       "mpl.extensions = [\"eps\", \"jpeg\", \"pdf\", \"png\", \"ps\", \"raw\", \"svg\", \"tif\"];\n",
       "\n",
       "mpl.default_extension = \"png\";var comm_websocket_adapter = function(comm) {\n",
       "    // Create a \"websocket\"-like object which calls the given IPython comm\n",
       "    // object with the appropriate methods. Currently this is a non binary\n",
       "    // socket, so there is still some room for performance tuning.\n",
       "    var ws = {};\n",
       "\n",
       "    ws.close = function() {\n",
       "        comm.close()\n",
       "    };\n",
       "    ws.send = function(m) {\n",
       "        //console.log('sending', m);\n",
       "        comm.send(m);\n",
       "    };\n",
       "    // Register the callback with on_msg.\n",
       "    comm.on_msg(function(msg) {\n",
       "        //console.log('receiving', msg['content']['data'], msg);\n",
       "        // Pass the mpl event to the overridden (by mpl) onmessage function.\n",
       "        ws.onmessage(msg['content']['data'])\n",
       "    });\n",
       "    return ws;\n",
       "}\n",
       "\n",
       "mpl.mpl_figure_comm = function(comm, msg) {\n",
       "    // This is the function which gets called when the mpl process\n",
       "    // starts-up an IPython Comm through the \"matplotlib\" channel.\n",
       "\n",
       "    var id = msg.content.data.id;\n",
       "    // Get hold of the div created by the display call when the Comm\n",
       "    // socket was opened in Python.\n",
       "    var element = $(\"#\" + id);\n",
       "    var ws_proxy = comm_websocket_adapter(comm)\n",
       "\n",
       "    function ondownload(figure, format) {\n",
       "        window.open(figure.imageObj.src);\n",
       "    }\n",
       "\n",
       "    var fig = new mpl.figure(id, ws_proxy,\n",
       "                           ondownload,\n",
       "                           element.get(0));\n",
       "\n",
       "    // Call onopen now - mpl needs it, as it is assuming we've passed it a real\n",
       "    // web socket which is closed, not our websocket->open comm proxy.\n",
       "    ws_proxy.onopen();\n",
       "\n",
       "    fig.parent_element = element.get(0);\n",
       "    fig.cell_info = mpl.find_output_cell(\"<div id='\" + id + \"'></div>\");\n",
       "    if (!fig.cell_info) {\n",
       "        console.error(\"Failed to find cell for figure\", id, fig);\n",
       "        return;\n",
       "    }\n",
       "\n",
       "    var output_index = fig.cell_info[2]\n",
       "    var cell = fig.cell_info[0];\n",
       "\n",
       "};\n",
       "\n",
       "mpl.figure.prototype.handle_close = function(fig, msg) {\n",
       "    var width = fig.canvas.width/mpl.ratio\n",
       "    fig.root.unbind('remove')\n",
       "\n",
       "    // Update the output cell to use the data from the current canvas.\n",
       "    fig.push_to_output();\n",
       "    var dataURL = fig.canvas.toDataURL();\n",
       "    // Re-enable the keyboard manager in IPython - without this line, in FF,\n",
       "    // the notebook keyboard shortcuts fail.\n",
       "    IPython.keyboard_manager.enable()\n",
       "    $(fig.parent_element).html('<img src=\"' + dataURL + '\" width=\"' + width + '\">');\n",
       "    fig.close_ws(fig, msg);\n",
       "}\n",
       "\n",
       "mpl.figure.prototype.close_ws = function(fig, msg){\n",
       "    fig.send_message('closing', msg);\n",
       "    // fig.ws.close()\n",
       "}\n",
       "\n",
       "mpl.figure.prototype.push_to_output = function(remove_interactive) {\n",
       "    // Turn the data on the canvas into data in the output cell.\n",
       "    var width = this.canvas.width/mpl.ratio\n",
       "    var dataURL = this.canvas.toDataURL();\n",
       "    this.cell_info[1]['text/html'] = '<img src=\"' + dataURL + '\" width=\"' + width + '\">';\n",
       "}\n",
       "\n",
       "mpl.figure.prototype.updated_canvas_event = function() {\n",
       "    // Tell IPython that the notebook contents must change.\n",
       "    IPython.notebook.set_dirty(true);\n",
       "    this.send_message(\"ack\", {});\n",
       "    var fig = this;\n",
       "    // Wait a second, then push the new image to the DOM so\n",
       "    // that it is saved nicely (might be nice to debounce this).\n",
       "    setTimeout(function () { fig.push_to_output() }, 1000);\n",
       "}\n",
       "\n",
       "mpl.figure.prototype._init_toolbar = function() {\n",
       "    var fig = this;\n",
       "\n",
       "    var nav_element = $('<div/>')\n",
       "    nav_element.attr('style', 'width: 100%');\n",
       "    this.root.append(nav_element);\n",
       "\n",
       "    // Define a callback function for later on.\n",
       "    function toolbar_event(event) {\n",
       "        return fig.toolbar_button_onclick(event['data']);\n",
       "    }\n",
       "    function toolbar_mouse_event(event) {\n",
       "        return fig.toolbar_button_onmouseover(event['data']);\n",
       "    }\n",
       "\n",
       "    for(var toolbar_ind in mpl.toolbar_items){\n",
       "        var name = mpl.toolbar_items[toolbar_ind][0];\n",
       "        var tooltip = mpl.toolbar_items[toolbar_ind][1];\n",
       "        var image = mpl.toolbar_items[toolbar_ind][2];\n",
       "        var method_name = mpl.toolbar_items[toolbar_ind][3];\n",
       "\n",
       "        if (!name) { continue; };\n",
       "\n",
       "        var button = $('<button class=\"btn btn-default\" href=\"#\" title=\"' + name + '\"><i class=\"fa ' + image + ' fa-lg\"></i></button>');\n",
       "        button.click(method_name, toolbar_event);\n",
       "        button.mouseover(tooltip, toolbar_mouse_event);\n",
       "        nav_element.append(button);\n",
       "    }\n",
       "\n",
       "    // Add the status bar.\n",
       "    var status_bar = $('<span class=\"mpl-message\" style=\"text-align:right; float: right;\"/>');\n",
       "    nav_element.append(status_bar);\n",
       "    this.message = status_bar[0];\n",
       "\n",
       "    // Add the close button to the window.\n",
       "    var buttongrp = $('<div class=\"btn-group inline pull-right\"></div>');\n",
       "    var button = $('<button class=\"btn btn-mini btn-primary\" href=\"#\" title=\"Stop Interaction\"><i class=\"fa fa-power-off icon-remove icon-large\"></i></button>');\n",
       "    button.click(function (evt) { fig.handle_close(fig, {}); } );\n",
       "    button.mouseover('Stop Interaction', toolbar_mouse_event);\n",
       "    buttongrp.append(button);\n",
       "    var titlebar = this.root.find($('.ui-dialog-titlebar'));\n",
       "    titlebar.prepend(buttongrp);\n",
       "}\n",
       "\n",
       "mpl.figure.prototype._root_extra_style = function(el){\n",
       "    var fig = this\n",
       "    el.on(\"remove\", function(){\n",
       "\tfig.close_ws(fig, {});\n",
       "    });\n",
       "}\n",
       "\n",
       "mpl.figure.prototype._canvas_extra_style = function(el){\n",
       "    // this is important to make the div 'focusable\n",
       "    el.attr('tabindex', 0)\n",
       "    // reach out to IPython and tell the keyboard manager to turn it's self\n",
       "    // off when our div gets focus\n",
       "\n",
       "    // location in version 3\n",
       "    if (IPython.notebook.keyboard_manager) {\n",
       "        IPython.notebook.keyboard_manager.register_events(el);\n",
       "    }\n",
       "    else {\n",
       "        // location in version 2\n",
       "        IPython.keyboard_manager.register_events(el);\n",
       "    }\n",
       "\n",
       "}\n",
       "\n",
       "mpl.figure.prototype._key_event_extra = function(event, name) {\n",
       "    var manager = IPython.notebook.keyboard_manager;\n",
       "    if (!manager)\n",
       "        manager = IPython.keyboard_manager;\n",
       "\n",
       "    // Check for shift+enter\n",
       "    if (event.shiftKey && event.which == 13) {\n",
       "        this.canvas_div.blur();\n",
       "        event.shiftKey = false;\n",
       "        // Send a \"J\" for go to next cell\n",
       "        event.which = 74;\n",
       "        event.keyCode = 74;\n",
       "        manager.command_mode();\n",
       "        manager.handle_keydown(event);\n",
       "    }\n",
       "}\n",
       "\n",
       "mpl.figure.prototype.handle_save = function(fig, msg) {\n",
       "    fig.ondownload(fig, null);\n",
       "}\n",
       "\n",
       "\n",
       "mpl.find_output_cell = function(html_output) {\n",
       "    // Return the cell and output element which can be found *uniquely* in the notebook.\n",
       "    // Note - this is a bit hacky, but it is done because the \"notebook_saving.Notebook\"\n",
       "    // IPython event is triggered only after the cells have been serialised, which for\n",
       "    // our purposes (turning an active figure into a static one), is too late.\n",
       "    var cells = IPython.notebook.get_cells();\n",
       "    var ncells = cells.length;\n",
       "    for (var i=0; i<ncells; i++) {\n",
       "        var cell = cells[i];\n",
       "        if (cell.cell_type === 'code'){\n",
       "            for (var j=0; j<cell.output_area.outputs.length; j++) {\n",
       "                var data = cell.output_area.outputs[j];\n",
       "                if (data.data) {\n",
       "                    // IPython >= 3 moved mimebundle to data attribute of output\n",
       "                    data = data.data;\n",
       "                }\n",
       "                if (data['text/html'] == html_output) {\n",
       "                    return [cell, data, j];\n",
       "                }\n",
       "            }\n",
       "        }\n",
       "    }\n",
       "}\n",
       "\n",
       "// Register the function which deals with the matplotlib target/channel.\n",
       "// The kernel may be null if the page has been refreshed.\n",
       "if (IPython.notebook.kernel != null) {\n",
       "    IPython.notebook.kernel.comm_manager.register_target('matplotlib', mpl.mpl_figure_comm);\n",
       "}\n"
      ],
      "text/plain": [
       "<IPython.core.display.Javascript object>"
      ]
     },
     "metadata": {},
     "output_type": "display_data"
    },
    {
     "data": {
      "text/html": [
       "<img src=\"data:image/png;base64,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\" width=\"500\">"
      ],
      "text/plain": [
       "<IPython.core.display.HTML object>"
      ]
     },
     "metadata": {},
     "output_type": "display_data"
    }
   ],
   "source": [
    "fig = plt.figure(figsize=(5,6), dpi=100)"
   ]
  },
  {
   "cell_type": "markdown",
   "metadata": {
    "colab_type": "text",
    "id": "Pc-FwEZvZc3M"
   },
   "source": [
    "* `fig` refers to the entire canvas\n"
   ]
  },
  {
   "cell_type": "code",
   "execution_count": 5,
   "metadata": {
    "colab": {},
    "colab_type": "code",
    "id": "sxhTr_-IZc3O"
   },
   "outputs": [],
   "source": [
    "ax = fig.add_subplot(2,1,1) # two rows, 1 column, first plot"
   ]
  },
  {
   "cell_type": "markdown",
   "metadata": {
    "colab_type": "text",
    "id": "RKG4WmsEZc3R"
   },
   "source": [
    "* `ax` refers to the first subplot on the canvas\n",
    "    * The range and tick mark are the default values"
   ]
  },
  {
   "cell_type": "markdown",
   "metadata": {
    "colab_type": "text",
    "id": "obdAezB7Zc3S"
   },
   "source": [
    "### Adding a second plot"
   ]
  },
  {
   "cell_type": "code",
   "execution_count": 6,
   "metadata": {
    "colab": {},
    "colab_type": "code",
    "id": "Bbc4kOQ5Zc3T"
   },
   "outputs": [],
   "source": [
    "ax2 = fig.add_subplot(2,1,2) # two rows, 1 column, second plot"
   ]
  },
  {
   "cell_type": "markdown",
   "metadata": {
    "colab_type": "text",
    "id": "V4FXaU3ZZc3Z"
   },
   "source": [
    "### Adding a line to the first plot\n",
    "\n"
   ]
  },
  {
   "cell_type": "code",
   "execution_count": 7,
   "metadata": {
    "colab": {},
    "colab_type": "code",
    "id": "2VJsarLEZc3c"
   },
   "outputs": [
    {
     "data": {
      "text/plain": [
       "[<matplotlib.lines.Line2D at 0x7ff486c9f160>]"
      ]
     },
     "execution_count": 7,
     "metadata": {},
     "output_type": "execute_result"
    }
   ],
   "source": [
    "ax.plot(S, X, color='blue', linestyle='-', label='Sine' )\n"
   ]
  },
  {
   "cell_type": "markdown",
   "metadata": {
    "colab_type": "text",
    "id": "ASOzgVsKZc3h"
   },
   "source": [
    "### Oops!\n",
    "The X-axis should be specified first\n",
    "\n",
    "Remove the line\n"
   ]
  },
  {
   "cell_type": "code",
   "execution_count": 8,
   "metadata": {
    "colab": {},
    "colab_type": "code",
    "id": "S76J2cTOZc3j"
   },
   "outputs": [],
   "source": [
    "del ax.lines[0]\n"
   ]
  },
  {
   "cell_type": "code",
   "execution_count": 9,
   "metadata": {
    "colab": {},
    "colab_type": "code",
    "id": "KfIB9xkDZc3m"
   },
   "outputs": [
    {
     "data": {
      "text/plain": [
       "[<matplotlib.lines.Line2D at 0x7ff486c45470>]"
      ]
     },
     "execution_count": 9,
     "metadata": {},
     "output_type": "execute_result"
    }
   ],
   "source": [
    "ax.plot(X, S, color='blue', linestyle='-', label='Sine' )"
   ]
  },
  {
   "cell_type": "markdown",
   "metadata": {
    "colab_type": "text",
    "id": "MCzL_uJfZc3q"
   },
   "source": [
    "### Work on the second graph"
   ]
  },
  {
   "cell_type": "code",
   "execution_count": 10,
   "metadata": {
    "colab": {},
    "colab_type": "code",
    "id": "6_hzRhEHZc3r"
   },
   "outputs": [
    {
     "data": {
      "text/plain": [
       "[<matplotlib.lines.Line2D at 0x7ff486c567b8>]"
      ]
     },
     "execution_count": 10,
     "metadata": {},
     "output_type": "execute_result"
    }
   ],
   "source": [
    "ax2.plot(X, C, color='red', linestyle='-', label='Cosine' )"
   ]
  },
  {
   "cell_type": "code",
   "execution_count": 11,
   "metadata": {
    "colab": {},
    "colab_type": "code",
    "id": "b0J2sb5zZc3u"
   },
   "outputs": [],
   "source": [
    "plt.subplots_adjust(hspace=0.4)"
   ]
  },
  {
   "cell_type": "markdown",
   "metadata": {
    "colab_type": "text",
    "id": "Q0fy56vIZc3x"
   },
   "source": [
    "* This moves the space between the plot as it did in the first notebook\n"
   ]
  },
  {
   "cell_type": "markdown",
   "metadata": {
    "colab_type": "text",
    "id": "mUE6HTLOZc3y"
   },
   "source": [
    "### Setting title\n"
   ]
  },
  {
   "cell_type": "code",
   "execution_count": 12,
   "metadata": {
    "colab": {},
    "colab_type": "code",
    "id": "xCD7LSduZc3z"
   },
   "outputs": [
    {
     "data": {
      "text/plain": [
       "Text(0.5, 1.0, 'Cosine')"
      ]
     },
     "execution_count": 12,
     "metadata": {},
     "output_type": "execute_result"
    }
   ],
   "source": [
    "ax.set_title(\"Sine\")\n",
    "ax2.set_title(\"Cosine\")"
   ]
  },
  {
   "cell_type": "markdown",
   "metadata": {
    "colab_type": "text",
    "id": "-aevbpENZc32"
   },
   "source": [
    "### Setting the X-axis and Y-axis limits"
   ]
  },
  {
   "cell_type": "code",
   "execution_count": 13,
   "metadata": {
    "colab": {},
    "colab_type": "code",
    "id": "UFILmmYPZc33"
   },
   "outputs": [
    {
     "data": {
      "text/plain": [
       "(-1.0999791300835997, 1.0999791300835997)"
      ]
     },
     "execution_count": 13,
     "metadata": {},
     "output_type": "execute_result"
    }
   ],
   "source": [
    "ax.set_xlim(X.min() * 1.1, X.max() * 1.1)\n",
    "ax.set_ylim(S.min() * 1.1, S.max() * 1.1)"
   ]
  },
  {
   "cell_type": "markdown",
   "metadata": {
    "colab_type": "text",
    "id": "aI0rSFbmZc38"
   },
   "source": [
    "### Setting the X-axis tick marks"
   ]
  },
  {
   "cell_type": "code",
   "execution_count": 14,
   "metadata": {
    "colab": {},
    "colab_type": "code",
    "id": "gKhQUF1lZc39"
   },
   "outputs": [
    {
     "data": {
      "text/plain": [
       "[<matplotlib.axis.XTick at 0x7ff487206240>,\n",
       " <matplotlib.axis.XTick at 0x7ff4871fb4e0>,\n",
       " <matplotlib.axis.XTick at 0x7ff4ad6a7240>,\n",
       " <matplotlib.axis.XTick at 0x7ff486d1da90>,\n",
       " <matplotlib.axis.XTick at 0x7ff486d2a208>]"
      ]
     },
     "execution_count": 14,
     "metadata": {},
     "output_type": "execute_result"
    }
   ],
   "source": [
    "ax.set_xticks([-np.pi, -np.pi/2, 0, np.pi/2, np.pi])"
   ]
  },
  {
   "cell_type": "markdown",
   "metadata": {
    "colab_type": "text",
    "id": "twiGaYqAZc4D"
   },
   "source": [
    "### Setting X-axis tick labels"
   ]
  },
  {
   "cell_type": "code",
   "execution_count": 15,
   "metadata": {
    "colab": {},
    "colab_type": "code",
    "id": "l7-3lXUmZc4F"
   },
   "outputs": [
    {
     "data": {
      "text/plain": [
       "[Text(-3.141592653589793, 0, '$-\\\\pi$'),\n",
       " Text(-1.5707963267948966, 0, '$-\\\\pi/2$'),\n",
       " Text(0.0, 0, '$0$'),\n",
       " Text(1.5707963267948966, 0, '$+\\\\pi/2$'),\n",
       " Text(3.141592653589793, 0, '$+\\\\pi$')]"
      ]
     },
     "execution_count": 15,
     "metadata": {},
     "output_type": "execute_result"
    }
   ],
   "source": [
    "ax.set_xticklabels([r'$-\\pi$', r'$-\\pi/2$', r'$0$', r'$+\\pi/2$', r'$+\\pi$'])"
   ]
  },
  {
   "cell_type": "markdown",
   "metadata": {
    "colab_type": "text",
    "id": "WHpVNppkZc4O"
   },
   "source": [
    "### Setting X-axis ticks and tick labels"
   ]
  },
  {
   "cell_type": "code",
   "execution_count": 16,
   "metadata": {
    "colab": {},
    "colab_type": "code",
    "id": "d5I4BYWdZc4Q"
   },
   "outputs": [
    {
     "data": {
      "text/plain": [
       "[Text(0, -1.5, '$-1$'), Text(0, -1.0, '$0$'), Text(0, -0.5, '$+1$')]"
      ]
     },
     "execution_count": 16,
     "metadata": {},
     "output_type": "execute_result"
    }
   ],
   "source": [
    "ax.set_yticks([-1, 0, +1])\n",
    "ax.set_yticklabels([r'$-1$', r'$0$', r'$+1$'])"
   ]
  },
  {
   "cell_type": "markdown",
   "metadata": {
    "colab_type": "text",
    "id": "EcDWMXAbZc4V"
   },
   "source": [
    "### Settin all the X-axis and Y-axis markers"
   ]
  },
  {
   "cell_type": "code",
   "execution_count": 17,
   "metadata": {
    "colab": {},
    "colab_type": "code",
    "id": "HTjS8eCNZc4W"
   },
   "outputs": [
    {
     "data": {
      "text/plain": [
       "[Text(0, -1.5, '$-1$'), Text(0, -1.0, '$0$'), Text(0, -0.5, '$+1$')]"
      ]
     },
     "execution_count": 17,
     "metadata": {},
     "output_type": "execute_result"
    }
   ],
   "source": [
    "ax2.set_xlim(X.min() * 1.1, X.max() * 1.1)\n",
    "ax2.set_ylim(S.min() * 1.1, S.max() * 1.1)\n",
    "ax2.set_xticks([-np.pi, -np.pi/2, 0, np.pi/2, np.pi])\n",
    "ax2.set_xticklabels([r'$-\\pi$', r'$-\\pi/2$', r'$0$', r'$+\\pi/2$', r'$+\\pi$'])\n",
    "ax2.set_yticks([-1, 0, +1])\n",
    "ax2.set_yticklabels([r'$-1$', r'$0$', r'$+1$'])"
   ]
  },
  {
   "cell_type": "markdown",
   "metadata": {
    "colab_type": "text",
    "id": "tMdVHgjWZc4b"
   },
   "source": [
    "### Setting X-axis and Y-axis labels"
   ]
  },
  {
   "cell_type": "code",
   "execution_count": 18,
   "metadata": {
    "colab": {},
    "colab_type": "code",
    "id": "qbXWzhVOZc4c"
   },
   "outputs": [
    {
     "data": {
      "text/plain": [
       "Text(25.960045708550346, 0.5, 'Cos(X)')"
      ]
     },
     "execution_count": 18,
     "metadata": {},
     "output_type": "execute_result"
    }
   ],
   "source": [
    "ax.set_xlabel(\"X Values\")\n",
    "ax2.set_xlabel(\"X Values\")\n",
    "ax.set_ylabel(\"Sin(X)\")\n",
    "ax2.set_ylabel(\"Cos(X)\")"
   ]
  },
  {
   "cell_type": "markdown",
   "metadata": {
    "colab_type": "text",
    "id": "C19MxADCZc4g"
   },
   "source": [
    "### Setting legend"
   ]
  },
  {
   "cell_type": "code",
   "execution_count": 19,
   "metadata": {
    "colab": {},
    "colab_type": "code",
    "id": "UDPqqGEkZc4h"
   },
   "outputs": [
    {
     "data": {
      "text/plain": [
       "<matplotlib.legend.Legend at 0x7ff486b807f0>"
      ]
     },
     "execution_count": 19,
     "metadata": {},
     "output_type": "execute_result"
    }
   ],
   "source": [
    "ax.legend(loc='upper left', frameon=False)\n",
    "ax2.legend(loc='upper left', frameon=False)"
   ]
  },
  {
   "cell_type": "markdown",
   "metadata": {
    "colab_type": "text",
    "id": "bOuv4L4GZc4l"
   },
   "source": [
    "# End of notebook"
   ]
  },
  {
   "cell_type": "code",
   "execution_count": null,
   "metadata": {},
   "outputs": [],
   "source": []
  },
  {
   "cell_type": "code",
   "execution_count": null,
   "metadata": {},
   "outputs": [],
   "source": []
  },
  {
   "cell_type": "code",
   "execution_count": null,
   "metadata": {},
   "outputs": [],
   "source": []
  }
 ],
 "metadata": {
  "colab": {
   "include_colab_link": true,
   "name": "05-02-Plotting-Artistic-Interface.ipynb",
   "provenance": []
  },
  "kernelspec": {
   "display_name": "Python 3",
   "language": "python",
   "name": "python3"
  },
  "language_info": {
   "codemirror_mode": {
    "name": "ipython",
    "version": 3
   },
   "file_extension": ".py",
   "mimetype": "text/x-python",
   "name": "python",
   "nbconvert_exporter": "python",
   "pygments_lexer": "ipython3",
   "version": "3.7.3"
  }
 },
 "nbformat": 4,
 "nbformat_minor": 1
}
