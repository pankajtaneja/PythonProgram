{
 "cells": [
  {
   "cell_type": "markdown",
   "metadata": {},
   "source": [
    "## Homework: ## \n",
    "\n",
    "### Load the sales.csv file found in Day4\n",
    "### Replace the nulls with the means and rescale the numeric columns \n",
    "### Add a column for a numeric encoded version of color\n",
    "### Add a series of dummy coded columns for color\n",
    "<br>\n",
    "<details><summary>Click for <b>hint</b></summary>\n",
    "<p>\n",
    "Import the correct package to do rescaling\n",
    "<br>\n",
    "Remember to add a new column you can't use property or dot syntax to refer to a column\n",
    "<br>\n",
    "Remember to add Dummy Coded values you are adding more than one column so you need another method to add them to the DataFrame\n",
    "<br>\n",
    "<br>\n",
    "</p>\n",
    "</details>\n"
   ]
  },
  {
   "cell_type": "code",
   "execution_count": null,
   "metadata": {},
   "outputs": [],
   "source": [
    "import pandas as pd\n",
    "sales = pd.read_csv('sales.csv', index_col=0, header=0)\n",
    "#display(sales)\n",
    "\n",
    "from sklearn import preprocessing as pp\n",
    "cols = ['cost', 'sales']\n",
    "sales[cols] = sales[cols].apply(lambda x : x.fillna(x.mean()))\n",
    "sales[cols] = sales[cols].apply(lambda x : pp.scale(x, with_mean = True, with_std = True))\n",
    "sales['colorcode'] = pd.Categorical(sales.color).codes\n",
    "dummies = pd.get_dummies(sales.color, drop_first = False)\n",
    "sales = pd.concat([sales, dummies], axis = 1)\n",
    "display(sales)\n"
   ]
  },
  {
   "cell_type": "code",
   "execution_count": null,
   "metadata": {},
   "outputs": [],
   "source": []
  }
 ],
 "metadata": {
  "colab": {
   "include_colab_link": true,
   "name": "04-01-DataPreparation.ipynb",
   "provenance": []
  },
  "kernelspec": {
   "display_name": "Python 3",
   "language": "python",
   "name": "python3"
  },
  "language_info": {
   "codemirror_mode": {
    "name": "ipython",
    "version": 3
   },
   "file_extension": ".py",
   "mimetype": "text/x-python",
   "name": "python",
   "nbconvert_exporter": "python",
   "pygments_lexer": "ipython3",
   "version": "3.7.3"
  }
 },
 "nbformat": 4,
 "nbformat_minor": 1
}
